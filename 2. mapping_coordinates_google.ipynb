{
 "cells": [
  {
   "cell_type": "markdown",
   "id": "04aecfc3-6d36-4163-8901-91a16c9202fd",
   "metadata": {},
   "source": [
    "# SPAH Postcode Mapping - Retrieving Coordinates"
   ]
  },
  {
   "cell_type": "code",
   "execution_count": 49,
   "id": "fc207644-c232-436d-9b13-9ed3426c040b",
   "metadata": {},
   "outputs": [],
   "source": [
    "import pandas as pd\n",
    "import googlemaps\n",
    "import os"
   ]
  },
  {
   "cell_type": "markdown",
   "id": "636dc6c8-8e94-4ea6-b6dd-82a24b49c779",
   "metadata": {},
   "source": [
    "### Import data"
   ]
  },
  {
   "cell_type": "code",
   "execution_count": 50,
   "id": "a53522d3-1354-4d5f-9857-1d09c85d5b23",
   "metadata": {},
   "outputs": [],
   "source": [
    "# define file pathways\n",
    "raw_folder_pathway = r'C:\\Users\\scotth07\\OneDrive - NHS Scotland\\Documents\\Networks & Projects\\SPAH\\Postcode Mapping\\raw_data'\n",
    "cleaned_folder_pathway = r'C:\\Users\\scotth07\\OneDrive - NHS Scotland\\Documents\\Networks & Projects\\SPAH\\Postcode Mapping\\cleaned_data'\n",
    "patient_postcodes_pathway = cleaned_folder_pathway + r'\\patient_postcodes_data.xlsx'\n",
    "hospital_data_pathway = raw_folder_pathway + r'\\hospital_postcodes.xlsx'"
   ]
  },
  {
   "cell_type": "code",
   "execution_count": 51,
   "id": "a4d156dc-db3c-4963-9c15-068abf0f55d1",
   "metadata": {},
   "outputs": [],
   "source": [
    "# import raw data\n",
    "patient_postcodes_df = pd.read_excel(patient_postcodes_pathway, sheet_name='Sheet1')\n",
    "hospital_df = pd.read_excel(hospital_data_pathway, sheet_name='Sheet1')"
   ]
  },
  {
   "cell_type": "markdown",
   "id": "2e33bd6f-4cbb-49b0-9718-e7f1849b35d1",
   "metadata": {},
   "source": [
    "### Retrieve coordinates for each postcode"
   ]
  },
  {
   "cell_type": "code",
   "execution_count": 52,
   "id": "ecc049b6-da69-45d9-ad16-3be6e3f294f9",
   "metadata": {},
   "outputs": [],
   "source": [
    "key=os.getenv('API_KEY')"
   ]
  },
  {
   "cell_type": "code",
   "execution_count": 53,
   "id": "c6942bcb-e53c-45b1-aa3a-67a803ba05df",
   "metadata": {},
   "outputs": [],
   "source": [
    "# initialise client with API key\n",
    "gmaps = googlemaps.Client(key=key)"
   ]
  },
  {
   "cell_type": "code",
   "execution_count": 54,
   "id": "537c4357-f1a8-4cda-aec2-6ae9b8255f8a",
   "metadata": {},
   "outputs": [],
   "source": [
    "# Function to retrieve latitude and longitude coordinates for a given postcode\n",
    "# Arguments:\n",
    "#   -postcode: A string containing the postcode for each patient.\n",
    "# Returns:\n",
    "#   -A tuple (lat, lng) representing the postcode.\n",
    "#   -Returns None if no coordinates are found or if an error occurs.\n",
    "\n",
    "def get_coordinates(postcode):\n",
    "    try:\n",
    "        # Use Google Maps Geocoding API to get location data for the given postcode\n",
    "        location = gmaps.geocode(postcode)\n",
    "        \n",
    "        # check if a location is returned from the API\n",
    "        if location:\n",
    "            # extract latitude and longitude from the API response\n",
    "            lat = location[0]['geometry']['location']['lat']\n",
    "            lng = location[0]['geometry']['location']['lng']\n",
    "            return (lat, lng)\n",
    "        else:\n",
    "            # if no coordinates are found for the postcode\n",
    "            print(f\"No coordinates found for postcode: {postcode}\")\n",
    "            return None\n",
    "    except Exception as e:\n",
    "        # if exception occurs during the API call\n",
    "        print(f\"Error occurred: {e}\")\n",
    "        return None\n"
   ]
  },
  {
   "cell_type": "code",
   "execution_count": 55,
   "id": "5d35ad71-746a-4857-8e2e-09730c6a287e",
   "metadata": {},
   "outputs": [],
   "source": [
    "# # define a function to assign coordinates to postcode\n",
    "# def get_coordinates(postcode):\n",
    "#     try:\n",
    "#         location = gmaps.geocode(postcode)\n",
    "#         if location:\n",
    "#             lat = location[0]['geometry']['location']['lat']\n",
    "#             lng = location[0]['geometry']['location']['lng']\n",
    "#             return (lat, lng)\n",
    "#         else:\n",
    "#             print(f\"No coordinates found for postcode: {postcode}\")\n",
    "#             return None\n",
    "#     except Exception as e:\n",
    "#         print(f\"Error occurred: {e}\")\n",
    "#         return None\n"
   ]
  },
  {
   "cell_type": "code",
   "execution_count": 56,
   "id": "744df396-293a-4626-9ac8-d4d1f05ee5fc",
   "metadata": {},
   "outputs": [
    {
     "name": "stdout",
     "output_type": "stream",
     "text": [
      "No coordinates found for postcode: G31 1JB\n",
      "No coordinates found for postcode: G31 1JB\n",
      "No coordinates found for postcode: DD111BA\n"
     ]
    }
   ],
   "source": [
    "# assign postcode coordinates to a new column for each patient\n",
    "patient_postcodes_df['patient_postcode_coordinates'] = patient_postcodes_df['patient_postcode'].apply(get_coordinates)"
   ]
  },
  {
   "cell_type": "code",
   "execution_count": 57,
   "id": "e947cd1a-bb18-4685-a262-99fb475bd39a",
   "metadata": {},
   "outputs": [],
   "source": [
    "hospital_df['hospital_postcode_coordinates'] = hospital_df['hospital_postcode'].apply(get_coordinates)"
   ]
  },
  {
   "cell_type": "code",
   "execution_count": 58,
   "id": "969e2d9c-c8c2-4003-ba09-bbde94ccacca",
   "metadata": {},
   "outputs": [],
   "source": [
    "# Split the coordinates into two separate columns\n",
    "patient_postcodes_df[['patient_postcode_lat', 'patient_postcode_long']] = pd.DataFrame(\n",
    "    patient_postcodes_df['patient_postcode_coordinates'].tolist(), \n",
    "    index=patient_postcodes_df.index\n",
    ")"
   ]
  },
  {
   "cell_type": "markdown",
   "id": "f38a6b78-cee3-4df9-8c39-c8f0519bf1e7",
   "metadata": {},
   "source": [
    "### Calculate closest hospital to each patient based on distance"
   ]
  },
  {
   "cell_type": "code",
   "execution_count": 59,
   "id": "eb3c7187-2236-4262-9c0f-1fb5153c6dbf",
   "metadata": {},
   "outputs": [],
   "source": [
    "#  Calculate the distances between a given patient and list of hospitals to return the hospital with shortest distance\n",
    "# Params:\n",
    "#    -patient_coords: A tuple containing latitude, longitude of the patient's postcode.\n",
    "#    -hospitals: A dataframe containing hospital information\n",
    "# Returns:\n",
    "#   A tuple containing:\n",
    "#   -closest_hospital: The name of the closest hospital\n",
    "#   -min_distance: The driving distance in metres\n",
    "\n",
    "def find_closest_hospital_distance(patient_coords, hospitals):\n",
    "    # If no patient coordinates are provided, return None for both hospital and duration\n",
    "    if patient_coords is None:\n",
    "        return None, None\n",
    "    \n",
    "    # initialize variables to keep track of the closest hospital and minimum distance\n",
    "    closest_hospital = None\n",
    "    min_distance = float('inf')\n",
    "    \n",
    "    # iterate over each hospital\n",
    "    for index, row in hospitals.iterrows():\n",
    "        # extract coordinates from the current row\n",
    "        hospital_coords = row['hospital_postcode_coordinates']\n",
    "        \n",
    "        # calculate driving distance between patient and hospital\n",
    "        result = gmaps.distance_matrix(origins=[patient_coords], destinations=[hospital_coords], mode='driving')\n",
    "        \n",
    "        # extract driving distance from the json response\n",
    "        distance = result['rows'][0]['elements'][0]['distance']['value']\n",
    "        \n",
    "        # update the closest hospital and minimum duration if the current hospital is closer\n",
    "        if distance < min_distance:\n",
    "            min_distance = distance\n",
    "            closest_hospital = row['hospital']\n",
    "            \n",
    "    return closest_hospital, min_distance\n"
   ]
  },
  {
   "cell_type": "code",
   "execution_count": 61,
   "id": "e0e4532f-e32c-4c51-94f5-63495535bfd1",
   "metadata": {},
   "outputs": [
    {
     "name": "stderr",
     "output_type": "stream",
     "text": [
      "\n",
      "KeyboardInterrupt\n",
      "\n"
     ]
    }
   ],
   "source": [
    "# assigns the name of the closest hospital for each patient\n",
    "patient_postcodes_df['closest_hospital_distance'] = patient_postcodes_df['patient_postcode_coordinates'].apply(\n",
    "    lambda x: find_closest_hospital_distance(x, hospital_df)[0]\n",
    ")"
   ]
  },
  {
   "cell_type": "code",
   "execution_count": null,
   "id": "7be922ef-db12-4f90-a728-eb7e33d9211e",
   "metadata": {},
   "outputs": [],
   "source": [
    "# assigns the distance to the closest hospital for each patient\n",
    "patient_postcodes_df['metres_to_closest_hospital'] = patient_postcodes_df['patient_postcode_coordinates'].apply(\n",
    "    lambda x: find_closest_hospital_distance(x, hospital_df)[1]\n",
    ")"
   ]
  },
  {
   "cell_type": "code",
   "execution_count": null,
   "id": "77063069-a863-42a3-a61d-6067e8b252f2",
   "metadata": {},
   "outputs": [],
   "source": [
    "# assigns the distance to the closest hospital for each patient\n",
    "patient_postcodes_df['miles_to_closest_hospital'] = (patient_postcodes_df['metres_to_closest_hospital'] / 1609.34).round(2)"
   ]
  },
  {
   "cell_type": "code",
   "execution_count": null,
   "id": "5bbf7551-f878-4485-8555-fc9a9fe04f7b",
   "metadata": {},
   "outputs": [],
   "source": [
    "# drop the metres column\n",
    "patient_postcodes_df = patient_postcodes_df.drop(['metres_to_closest_hospital'], axis=1)"
   ]
  },
  {
   "cell_type": "markdown",
   "id": "580cc506-e2a5-42eb-bb56-9b447b091402",
   "metadata": {
    "jp-MarkdownHeadingCollapsed": true
   },
   "source": [
    "### Calculate closest hospital to each patient based on journey duration"
   ]
  },
  {
   "cell_type": "code",
   "execution_count": null,
   "id": "319c70e3-50dc-4aa1-a286-79c94f9e2b42",
   "metadata": {},
   "outputs": [],
   "source": [
    "# Test coordinates\n",
    "# Patient G22 7QZ (55.8977572, -4.249776)\n",
    "# Hospital KW1 5NS (58.44132879999999, -3.0957442)"
   ]
  },
  {
   "cell_type": "code",
   "execution_count": null,
   "id": "894cd1eb-a397-4554-8352-c87bf37e05d4",
   "metadata": {},
   "outputs": [],
   "source": [
    "# # Calculate the distances between a given patient and list of hospitals to return the hospital with shortest driving duration.\n",
    "# # Params:\n",
    "# #    -patient_coords: A tuple containing latitude, longitude of the patient's postcode.\n",
    "# #    -hospitals: A dataframe containing hospital information\n",
    "# # Returns:\n",
    "# #   A tuple containing:\n",
    "# #   -closest_hospital: The name of the closest hospital\n",
    "# #   -min_duration: The driving duration in seconds\n",
    "# def find_closest_hospital_duration(patient_coords, hospitals):\n",
    "#     # if no patient coordinates are provided, return None for both hospital and duration\n",
    "#     if patient_coords is None:\n",
    "#         return None, None\n",
    "    \n",
    "#     # initialize variables to keep track of the closest hospital and minimum duration\n",
    "#     closest_hospital = None\n",
    "#     min_duration = float('inf')  # Start with an infinitely large duration\n",
    "    \n",
    "#     # iterate over each hospital\n",
    "#     for index, row in hospitals.iterrows():\n",
    "#         # extract coordinates from the current row\n",
    "#         hospital_coords = row['hospital_postcode_coordinates']\n",
    "        \n",
    "#         # calculate driving distance between patient and hospital\n",
    "#         result = gmaps.distance_matrix(origins=[patient_coords], destinations=[hospital_coords], mode='driving')\n",
    "        \n",
    "#         # extract driving duration from the json response\n",
    "#         duration = result['rows'][0]['elements'][0]['duration']['value']\n",
    "        \n",
    "#         # update the closest hospital and minimum duration if the current hospital is shorter duration\n",
    "#         if duration < min_duration:\n",
    "#             min_duration = duration\n",
    "#             closest_hospital = row['hospital']\n",
    "            \n",
    "#     return closest_hospital, min_duration\n"
   ]
  },
  {
   "cell_type": "code",
   "execution_count": null,
   "id": "23a43151-e786-4a82-aa5d-a0fe944d68d8",
   "metadata": {},
   "outputs": [],
   "source": [
    "# # assigns the name of the closest hospital for each patient\n",
    "# patient_postcodes_df['closest_hospital_duration'] = patient_postcodes_df['patient_postcode_coordinates'].apply(\n",
    "#     lambda x: find_closest_hospital_duration(x, hospital_df)[0]\n",
    "# )"
   ]
  },
  {
   "cell_type": "code",
   "execution_count": null,
   "id": "4eb3f35f-2b9f-4a3f-abce-b59451737b63",
   "metadata": {},
   "outputs": [],
   "source": [
    "# # assigns the name of the closest hospital for each patient\n",
    "# patient_postcodes_df['seconds_duration_to_closest_hospital'] = patient_postcodes_df['patient_postcode_coordinates'].apply(\n",
    "#     lambda x: find_closest_hospital_duration(x, hospital_df)[1]\n",
    "# )"
   ]
  },
  {
   "cell_type": "code",
   "execution_count": null,
   "id": "1ee513a8-131b-413d-8a1a-b94780e974c5",
   "metadata": {},
   "outputs": [],
   "source": [
    "# patient_postcodes_df['minutes_duration_to_closest_hospital'] = (patient_postcodes_df['seconds_duration_to_closest_hospital'] / 60).round(1)"
   ]
  },
  {
   "cell_type": "markdown",
   "id": "fbaff71a-0e19-407f-914e-9ea76191fcdb",
   "metadata": {},
   "source": [
    "### Export to Excel"
   ]
  },
  {
   "cell_type": "code",
   "execution_count": null,
   "id": "887b0e19-2799-4564-a460-bbfe0a17614b",
   "metadata": {},
   "outputs": [],
   "source": [
    "patient_postcodes_df.to_excel(cleaned_folder_pathway + r'\\nearest_hospitals.xlsx',\n",
    "                             index=False)"
   ]
  }
 ],
 "metadata": {
  "kernelspec": {
   "display_name": "Python 3 (ipykernel)",
   "language": "python",
   "name": "python3"
  },
  "language_info": {
   "codemirror_mode": {
    "name": "ipython",
    "version": 3
   },
   "file_extension": ".py",
   "mimetype": "text/x-python",
   "name": "python",
   "nbconvert_exporter": "python",
   "pygments_lexer": "ipython3",
   "version": "3.11.5"
  }
 },
 "nbformat": 4,
 "nbformat_minor": 5
}
