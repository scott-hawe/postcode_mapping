{
 "cells": [
  {
   "cell_type": "markdown",
   "id": "8ed0c037-ff35-4534-b3d6-75333ced4f77",
   "metadata": {},
   "source": [
    "# SPAH Postcode Mapping - Final merge & export"
   ]
  },
  {
   "cell_type": "code",
   "execution_count": 1,
   "id": "030dc26d-7a86-4feb-885d-36bfbd57873f",
   "metadata": {},
   "outputs": [],
   "source": [
    "import pandas as pd\n",
    "import folium"
   ]
  },
  {
   "cell_type": "markdown",
   "id": "204c8ab9-9568-4cc8-b7e4-6187d35269d2",
   "metadata": {},
   "source": [
    "### Import data"
   ]
  },
  {
   "cell_type": "code",
   "execution_count": 2,
   "id": "73ffc345-170d-49d8-b417-3f9d043ee819",
   "metadata": {},
   "outputs": [],
   "source": [
    "# define file pathways\n",
    "cleaned_folder_path = r'C:\\Users\\scotth07\\OneDrive - NHS Scotland\\Documents\\Networks & Projects\\SPAH\\Postcode Mapping\\cleaned_data'\n",
    "raw_folder_path = r'C:\\Users\\scotth07\\OneDrive - NHS Scotland\\Documents\\Networks & Projects\\SPAH\\Postcode Mapping\\raw_data'\n",
    "\n",
    "patient_data_pathway = cleaned_folder_path + r'\\patient_data.xlsx'\n",
    "nearest_hospitals_pathway = cleaned_folder_path + r'\\nearest_hospitals.xlsx' "
   ]
  },
  {
   "cell_type": "code",
   "execution_count": 3,
   "id": "34f243d5-b725-4247-b5ad-7af3ed9d1a32",
   "metadata": {},
   "outputs": [],
   "source": [
    "# import data\n",
    "patient_df = pd.read_excel(patient_data_pathway, sheet_name='Sheet1')\n",
    "nearest_hospitals_df = pd.read_excel(nearest_hospitals_pathway, sheet_name='Sheet1') "
   ]
  },
  {
   "cell_type": "markdown",
   "id": "001dbeef-0597-49a2-a2c8-2631df52785c",
   "metadata": {},
   "source": [
    "### Merge using postcodes and export list of patients"
   ]
  },
  {
   "cell_type": "code",
   "execution_count": 4,
   "id": "e0fc6ca1-52d9-4ef1-bb24-7cca766390e7",
   "metadata": {},
   "outputs": [],
   "source": [
    "# merge the two dataframes to combine patient data and nearest hospital information\n",
    "merged_df = pd.merge(patient_df, nearest_hospitals_df,\n",
    "                    on='patient_postcode')                     "
   ]
  },
  {
   "cell_type": "code",
   "execution_count": 5,
   "id": "2e8c271e-ab03-4f3d-a32f-a4c368f2a4aa",
   "metadata": {},
   "outputs": [],
   "source": [
    "merged_df.to_excel(cleaned_folder_path + r'\\patient_hospitals_merged.xlsx',\n",
    "                  index=False)"
   ]
  }
 ],
 "metadata": {
  "kernelspec": {
   "display_name": "Python 3 (ipykernel)",
   "language": "python",
   "name": "python3"
  },
  "language_info": {
   "codemirror_mode": {
    "name": "ipython",
    "version": 3
   },
   "file_extension": ".py",
   "mimetype": "text/x-python",
   "name": "python",
   "nbconvert_exporter": "python",
   "pygments_lexer": "ipython3",
   "version": "3.11.5"
  }
 },
 "nbformat": 4,
 "nbformat_minor": 5
}
