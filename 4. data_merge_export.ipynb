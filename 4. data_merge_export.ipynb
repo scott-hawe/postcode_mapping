{
 "cells": [
  {
   "cell_type": "markdown",
   "id": "8ed0c037-ff35-4534-b3d6-75333ced4f77",
   "metadata": {},
   "source": [
    "# SPAH Postcode Mapping - Final merge & export"
   ]
  },
  {
   "cell_type": "code",
   "execution_count": 26,
   "id": "030dc26d-7a86-4feb-885d-36bfbd57873f",
   "metadata": {},
   "outputs": [],
   "source": [
    "import pandas as pd\n",
    "from datetime import datetime"
   ]
  },
  {
   "cell_type": "markdown",
   "id": "204c8ab9-9568-4cc8-b7e4-6187d35269d2",
   "metadata": {},
   "source": [
    "### Import data"
   ]
  },
  {
   "cell_type": "code",
   "execution_count": 27,
   "id": "73ffc345-170d-49d8-b417-3f9d043ee819",
   "metadata": {},
   "outputs": [],
   "source": [
    "# define file pathways\n",
    "cleaned_folder_path = r'C:\\Users\\scotth07\\OneDrive - NHS Scotland\\Documents\\Networks & Projects\\SPAH\\Postcode Mapping\\cleaned_data'\n",
    "raw_folder_path = r'C:\\Users\\scotth07\\OneDrive - NHS Scotland\\Documents\\Networks & Projects\\SPAH\\Postcode Mapping\\raw_data'\n",
    "\n",
    "patient_data_pathway = cleaned_folder_path + r'\\patient_data.xlsx'\n",
    "nearest_hospitals_pathway = cleaned_folder_path + r'\\nearest_hospitals.xlsx' "
   ]
  },
  {
   "cell_type": "code",
   "execution_count": 28,
   "id": "34f243d5-b725-4247-b5ad-7af3ed9d1a32",
   "metadata": {},
   "outputs": [],
   "source": [
    "# import data\n",
    "patient_df = pd.read_excel(patient_data_pathway, sheet_name='Sheet1')\n",
    "nearest_hospitals_df = pd.read_excel(nearest_hospitals_pathway, sheet_name='Sheet1') "
   ]
  },
  {
   "cell_type": "markdown",
   "id": "001dbeef-0597-49a2-a2c8-2631df52785c",
   "metadata": {},
   "source": [
    "### Merge using postcodes "
   ]
  },
  {
   "cell_type": "code",
   "execution_count": 29,
   "id": "e0fc6ca1-52d9-4ef1-bb24-7cca766390e7",
   "metadata": {},
   "outputs": [],
   "source": [
    "# merge the two dataframes to combine patient data and nearest hospital information\n",
    "merged_df = pd.merge(patient_df, nearest_hospitals_df,\n",
    "                    on='patient_postcode')                     "
   ]
  },
  {
   "cell_type": "markdown",
   "id": "61226c7f-2516-4efd-8b81-c63ffccf4e6e",
   "metadata": {},
   "source": [
    "### Map health boards to different values consistent with the shape file values"
   ]
  },
  {
   "cell_type": "code",
   "execution_count": 30,
   "id": "51a10d35-df66-4ad0-b378-f86f1336033b",
   "metadata": {},
   "outputs": [],
   "source": [
    "health_board_mapping = {\n",
    "    'NHS AYRSHIRE & ARRAN': 'A&A',\n",
    "    'NHS BORDERS': 'BORD',\n",
    "    'NHS FIFE': 'FIFE',\n",
    "    'NHS FORTH VALLEY': 'FV',\n",
    "    'NHS DUMFRIES & GALLOWAY': 'D&G',\n",
    "    'NHS GRAMPIAN': 'GRAM',\n",
    "    'NHS GREATER GLASGOW & CLYDE': 'GG&C', \n",
    "    'NHS HIGHLAND': 'HIGH',\n",
    "    'NHS LANARKSHIRE': 'LAN',\n",
    "    'NHS LOTHIAN': 'LOTH',\n",
    "    'NHS ORKNEY': 'ORK',\n",
    "    'NHS SHETLAND': 'SHET',\n",
    "    'NHS TAYSIDE': 'TAY',\n",
    "    'NHS WESTERN ISLES': 'WI'\n",
    "    \n",
    "}"
   ]
  },
  {
   "cell_type": "code",
   "execution_count": 32,
   "id": "bee16da3-95de-4f67-9479-2fd94161b952",
   "metadata": {},
   "outputs": [],
   "source": [
    "merged_df['hb_residence_code'] = merged_df['hb_residence'].map(health_board_mapping)"
   ]
  },
  {
   "cell_type": "markdown",
   "id": "9ee656cf-6988-490f-85f3-b9235612467f",
   "metadata": {},
   "source": [
    "### Define adult and paediatric patients"
   ]
  },
  {
   "cell_type": "code",
   "execution_count": 33,
   "id": "53ad2f0a-1cc3-4afb-923c-0e097cf97c3e",
   "metadata": {},
   "outputs": [],
   "source": [
    "# assign todays date to variable\n",
    "today = pd.to_datetime('today')\n",
    "\n",
    "# assign date 16 years before today to variable\n",
    "sixteen_years = today - pd.DateOffset(years=16)"
   ]
  },
  {
   "cell_type": "code",
   "execution_count": 34,
   "id": "8f6a1226-d48f-4049-9d4f-0b1a941b5766",
   "metadata": {},
   "outputs": [],
   "source": [
    "# Classifies each patient as either adult or paediatric with the cut off age of 16\n",
    "def adult_or_paediatric(dob):\n",
    "    if pd.isna(dob):\n",
    "        return None\n",
    "    if dob >= sixteen_years:\n",
    "        return 'Adult'\n",
    "    return 'Paediatric'"
   ]
  },
  {
   "cell_type": "code",
   "execution_count": 35,
   "id": "1c537b00-b568-4e7a-9a41-7234dacc121a",
   "metadata": {},
   "outputs": [],
   "source": [
    "# Apple the function to the dob column\n",
    "merged_df['Adult/Paediatric'] = merged_df['dob'].apply(adult_or_paediatric)"
   ]
  },
  {
   "cell_type": "markdown",
   "id": "41a686f6-2010-4a73-9371-0e035403b68d",
   "metadata": {},
   "source": [
    "### Export list of patients"
   ]
  },
  {
   "cell_type": "code",
   "execution_count": 37,
   "id": "2e8c271e-ab03-4f3d-a32f-a4c368f2a4aa",
   "metadata": {},
   "outputs": [],
   "source": [
    "merged_df.to_excel(cleaned_folder_path + r'\\patient_hospitals_merged.xlsx',\n",
    "                  index=False)"
   ]
  }
 ],
 "metadata": {
  "kernelspec": {
   "display_name": "Python 3 (ipykernel)",
   "language": "python",
   "name": "python3"
  },
  "language_info": {
   "codemirror_mode": {
    "name": "ipython",
    "version": 3
   },
   "file_extension": ".py",
   "mimetype": "text/x-python",
   "name": "python",
   "nbconvert_exporter": "python",
   "pygments_lexer": "ipython3",
   "version": "3.11.5"
  }
 },
 "nbformat": 4,
 "nbformat_minor": 5
}
