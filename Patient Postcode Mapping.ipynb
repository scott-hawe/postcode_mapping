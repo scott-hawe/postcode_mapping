{
 "cells": [
  {
   "cell_type": "code",
   "execution_count": 1,
   "id": "fc207644-c232-436d-9b13-9ed3426c040b",
   "metadata": {},
   "outputs": [],
   "source": [
    "import pandas as pd\n",
    "from geopy.geocoders import Nominatim\n",
    "from geopy.exc import GeocoderTimedOut, GeocoderServiceError\n",
    "from geopy.distance import geodesic\n",
    "import time"
   ]
  },
  {
   "cell_type": "code",
   "execution_count": 9,
   "id": "f66d1f7f-33ba-4ae4-a0b2-478ada995af9",
   "metadata": {},
   "outputs": [],
   "source": [
    "# Sample data\n",
    "person_post_codes = ['BT19 6DZ']\n",
    "hospital_post_codes = ['BT19 1NH', 'BT23 7FG']"
   ]
  },
  {
   "cell_type": "code",
   "execution_count": 10,
   "id": "2d95653b-f35d-4d69-b93a-7abc7f87060b",
   "metadata": {},
   "outputs": [],
   "source": [
    "# Initialize geolocator with a higher timeout\n",
    "geolocator = Nominatim(user_agent=\"geoapiExercises\")"
   ]
  },
  {
   "cell_type": "code",
   "execution_count": 11,
   "id": "e0a4e223-4773-4d9d-b8e1-56a2f1b12a56",
   "metadata": {},
   "outputs": [],
   "source": [
    "def get_coordinates(post_code):\n",
    "    try:\n",
    "        location = geolocator.geocode(post_code)\n",
    "        if location:\n",
    "           return (location.latitude, location.longitude)\n",
    "    except (GeocoderTimedOut, GeocoderServiceError):\n",
    "        time.sleep(2)"
   ]
  },
  {
   "cell_type": "code",
   "execution_count": 12,
   "id": "cd8391eb-d066-4f4b-958e-cc2c20ed497f",
   "metadata": {},
   "outputs": [],
   "source": [
    "def find_nearest_hospital(person_coord, hospital_coords):\n",
    "    nearest_hospital = None\n",
    "    shortest_distance = float('inf')\n",
    "    for hospital, coord in hospital_coords.items():\n",
    "        distance = geodesic(person_coord, coord).kilometers\n",
    "        if distance < shortest_distance:\n",
    "            shortest_distance = distance\n",
    "            nearest_hospital = hospital\n",
    "    return nearest_hospital"
   ]
  },
  {
   "cell_type": "code",
   "execution_count": 13,
   "id": "515ef6cb-262e-4398-a5e8-05cc9528efbe",
   "metadata": {},
   "outputs": [],
   "source": [
    "# Get coordinates for persons and hospitals\n",
    "patient_coords = {pc: get_coordinates(pc) for pc in person_post_codes}\n",
    "hospital_coords = {hc: get_coordinates(hc) for hc in hospital_post_codes}"
   ]
  },
  {
   "cell_type": "code",
   "execution_count": 14,
   "id": "ff72cce3-fcd9-47bf-b639-f649498c4906",
   "metadata": {},
   "outputs": [],
   "source": [
    "# Assign nearest hospital to each person\n",
    "nearest_hospitals = {patient: find_nearest_hospital(coord, hospital_coords) for patient, coord in patient_coords.items()}"
   ]
  },
  {
   "cell_type": "code",
   "execution_count": 15,
   "id": "f8a517da-6b10-4c0b-9653-4c07dde7bd07",
   "metadata": {},
   "outputs": [
    {
     "name": "stdout",
     "output_type": "stream",
     "text": [
      "The nearest hospital to BT19 6DZ is BT19 1NH\n"
     ]
    }
   ],
   "source": [
    "# Output results\n",
    "for patient, hospital in nearest_hospitals.items():\n",
    "    print(f\"The nearest hospital to {patient} is {hospital}\")"
   ]
  },
  {
   "cell_type": "code",
   "execution_count": null,
   "id": "6d47098d-53ff-48c1-a601-153f343f7b2f",
   "metadata": {},
   "outputs": [],
   "source": []
  }
 ],
 "metadata": {
  "kernelspec": {
   "display_name": "Python 3 (ipykernel)",
   "language": "python",
   "name": "python3"
  },
  "language_info": {
   "codemirror_mode": {
    "name": "ipython",
    "version": 3
   },
   "file_extension": ".py",
   "mimetype": "text/x-python",
   "name": "python",
   "nbconvert_exporter": "python",
   "pygments_lexer": "ipython3",
   "version": "3.11.5"
  }
 },
 "nbformat": 4,
 "nbformat_minor": 5
}
