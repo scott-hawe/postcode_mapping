{
 "cells": [
  {
   "cell_type": "markdown",
   "id": "04aecfc3-6d36-4163-8901-91a16c9202fd",
   "metadata": {},
   "source": [
    "# SPAH Postcode Mapping - Initial cleaning of data"
   ]
  },
  {
   "cell_type": "code",
   "execution_count": 25,
   "id": "fc207644-c232-436d-9b13-9ed3426c040b",
   "metadata": {},
   "outputs": [],
   "source": [
    "import pandas as pd"
   ]
  },
  {
   "cell_type": "markdown",
   "id": "636dc6c8-8e94-4ea6-b6dd-82a24b49c779",
   "metadata": {},
   "source": [
    "### Import data"
   ]
  },
  {
   "cell_type": "code",
   "execution_count": 26,
   "id": "a53522d3-1354-4d5f-9857-1d09c85d5b23",
   "metadata": {},
   "outputs": [],
   "source": [
    "# define file pathways\n",
    "cleaned_folder_pathway = r'C:\\Users\\scotth07\\OneDrive - NHS Scotland\\Documents\\Networks & Projects\\SPAH\\Postcode Mapping\\cleaned_data'\n",
    "raw_folder_pathway = r'C:\\Users\\scotth07\\OneDrive - NHS Scotland\\Documents\\Networks & Projects\\SPAH\\Postcode Mapping\\raw_data'\n",
    "patient_data_pathway = raw_folder_pathway + r'\\2024-08-01 SPAH Raw Tables.xlsx'"
   ]
  },
  {
   "cell_type": "code",
   "execution_count": 27,
   "id": "a4d156dc-db3c-4963-9c15-068abf0f55d1",
   "metadata": {},
   "outputs": [],
   "source": [
    "# import raw data\n",
    "patient_df = pd.read_excel(patient_data_pathway, sheet_name='Demographics_rpt')"
   ]
  },
  {
   "cell_type": "markdown",
   "id": "237f676c-8ad1-418d-850e-9daeda790039",
   "metadata": {},
   "source": [
    "### Clean data"
   ]
  },
  {
   "cell_type": "code",
   "execution_count": 28,
   "id": "d93bb844-a5fe-4888-a719-cb29e4c06cfd",
   "metadata": {},
   "outputs": [],
   "source": [
    "# remove deceased patients\n",
    "patient_df = patient_df[patient_df['Date Of Death'].isna()]"
   ]
  },
  {
   "cell_type": "code",
   "execution_count": 29,
   "id": "cbab1bcf-0898-4a8b-9c79-d2e05724523a",
   "metadata": {},
   "outputs": [],
   "source": [
    "# filter the dataframe to only keep required columns\n",
    "columns_to_keep = [\n",
    "    'Chi Number', \n",
    "    'Date Of Birth', \n",
    "    'Health Board Of Residence Description',\n",
    "    'Patient Treatment Centre Health Board',\n",
    "    'Patient Treatment Centre',\n",
    "    'Patient Status',\n",
    "    'Patients Postcode'\n",
    "]\n",
    "patient_df = patient_df[columns_to_keep]"
   ]
  },
  {
   "cell_type": "code",
   "execution_count": 30,
   "id": "43441334-d89b-401d-a451-755604f1ae73",
   "metadata": {},
   "outputs": [],
   "source": [
    "# rename column headers\n",
    "column_renaming = {\n",
    "    'Chi Number': 'chi', \n",
    "    'Date Of Birth': 'dob', \n",
    "    'Health Board Of Residence Description': 'hb_residence',\n",
    "    'Patient Treatment Centre Health Board': 'hb_treatment_centre',\n",
    "    'Patient Treatment Centre': 'treatment_centre',\n",
    "    'Patient Status': 'patient_status',\n",
    "    'Patients Postcode': 'patient_postcode'   \n",
    "}\n",
    "patient_df = patient_df.rename(columns=column_renaming)"
   ]
  },
  {
   "cell_type": "code",
   "execution_count": 31,
   "id": "e22e5e2c-e3e7-4ed2-b8f1-1c662a2c5377",
   "metadata": {},
   "outputs": [],
   "source": [
    "# filter for active patients only\n",
    "patient_df = patient_df[(patient_df['patient_status'] == 'FOLLOW UP') |\n",
    "                        (patient_df['patient_status'].isna())]"
   ]
  },
  {
   "cell_type": "code",
   "execution_count": 32,
   "id": "3a681b54-1284-441d-9e1f-7bc68c6128ca",
   "metadata": {},
   "outputs": [],
   "source": [
    "# filter for patients in scotland only\n",
    "patient_df = patient_df[(patient_df['hb_residence'] != 'ENGLAND/WALES/NORTHERN IRELAND')]"
   ]
  },
  {
   "cell_type": "code",
   "execution_count": 33,
   "id": "d04035b2-0889-4be6-9da8-2fb164f628fe",
   "metadata": {},
   "outputs": [],
   "source": [
    "# reset index\n",
    "patient_df = patient_df.reset_index(drop=True)"
   ]
  },
  {
   "cell_type": "markdown",
   "id": "147c07c6-397e-436e-81b3-c445ff18ea74",
   "metadata": {},
   "source": [
    "### Export data"
   ]
  },
  {
   "cell_type": "code",
   "execution_count": 34,
   "id": "6170e468-ce14-4f29-99e9-cc512f409e28",
   "metadata": {},
   "outputs": [],
   "source": [
    "# isolate postcodes into a single list without other patient information\n",
    "patient_postcodes_df = pd.DataFrame(patient_df['patient_postcode'])"
   ]
  },
  {
   "cell_type": "code",
   "execution_count": 35,
   "id": "a19599ec-1882-45bf-a9ec-9d6164b67d38",
   "metadata": {},
   "outputs": [],
   "source": [
    "patient_df.to_excel(cleaned_folder_pathway + r'\\patient_data.xlsx',\n",
    "                   index=False)"
   ]
  },
  {
   "cell_type": "code",
   "execution_count": 36,
   "id": "b39c65b9-2846-49de-b134-b39908b11bf1",
   "metadata": {},
   "outputs": [],
   "source": [
    "patient_postcodes_df.to_excel(cleaned_folder_pathway + r'\\patient_postcodes_data.xlsx', \n",
    "                              index=False)"
   ]
  }
 ],
 "metadata": {
  "kernelspec": {
   "display_name": "Python 3 (ipykernel)",
   "language": "python",
   "name": "python3"
  },
  "language_info": {
   "codemirror_mode": {
    "name": "ipython",
    "version": 3
   },
   "file_extension": ".py",
   "mimetype": "text/x-python",
   "name": "python",
   "nbconvert_exporter": "python",
   "pygments_lexer": "ipython3",
   "version": "3.11.5"
  }
 },
 "nbformat": 4,
 "nbformat_minor": 5
}
